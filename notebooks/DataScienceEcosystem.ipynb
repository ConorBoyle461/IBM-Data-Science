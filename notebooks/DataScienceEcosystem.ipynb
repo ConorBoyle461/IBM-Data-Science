{
 "cells": [
  {
   "cell_type": "markdown",
   "id": "73405094",
   "metadata": {},
   "source": [
    "# Data Science Tools and Ecosystem"
   ]
  },
  {
   "cell_type": "markdown",
   "id": "6c3d3694",
   "metadata": {},
   "source": [
    "## Introduction"
   ]
  },
  {
   "cell_type": "markdown",
   "id": "4bee4a0f",
   "metadata": {},
   "source": [
    "In this notebook, Data Science Tools and Ecosystem will be summarized using my local installation of Anacona with Jupyter."
   ]
  },
  {
   "cell_type": "markdown",
   "id": "0925ca05",
   "metadata": {},
   "source": [
    "**Objectives**:\n",
    "* list popular data science languages \n",
    "* list popular data science libraries \n",
    "* demonstrate some arithmetic expressions via Python "
   ]
  },
  {
   "cell_type": "markdown",
   "id": "8c15bdd5",
   "metadata": {},
   "source": [
    "Data scientists use many different programming languages to fulfill their roles, some popular languages include:\n",
    "1. Python\n",
    "2. R\n",
    "3. SQL \n",
    "4. Julia \n",
    "5. Scala"
   ]
  },
  {
   "cell_type": "markdown",
   "id": "b3614456",
   "metadata": {},
   "source": [
    "In order to effectvely use these programming languages, they often import libraries such as those listed below: \n",
    "1. SciPy\n",
    "2. Numpy\n",
    "3. Pandas\n",
    "4. Keras "
   ]
  },
  {
   "cell_type": "markdown",
   "id": "c4d591d4",
   "metadata": {},
   "source": [
    "Data Science Tools|\n",
    "------------------|\n",
    "Spyder|\n",
    "Anaconda|\n",
    "RStudio|"
   ]
  },
  {
   "cell_type": "markdown",
   "id": "d2b2f903",
   "metadata": {},
   "source": [
    "I will make use of the Python programming language to demonstrate some arithmetic expressions via this notebook. The Python operators for some common arithmetic functions are as follows: \n",
    "* add (\\+) \n",
    "* subtract (-)\n",
    "* modulus (%)\n",
    "* multiply (\\*)\n",
    "* divide (/)"
   ]
  },
  {
   "cell_type": "code",
   "execution_count": 11,
   "id": "f180dce4",
   "metadata": {},
   "outputs": [
    {
     "data": {
      "text/plain": [
       "17"
      ]
     },
     "execution_count": 11,
     "metadata": {},
     "output_type": "execute_result"
    }
   ],
   "source": [
    "# This is a simple python arithmetic operation, the parentheses indicate priority - so the execution behaves as follows:\n",
    "# (3*4) + 5\n",
    "# (12) + 5\n",
    "# 17 \n",
    "(3*4)+5"
   ]
  },
  {
   "cell_type": "code",
   "execution_count": 12,
   "id": "d47a6ef3",
   "metadata": {},
   "outputs": [
    {
     "name": "stdout",
     "output_type": "stream",
     "text": [
      "200 minutes converted to hours is: 3.3333333333333335\n"
     ]
    }
   ],
   "source": [
    "# This code cell will comvert minutes to hours \n",
    "minutes = 200 \n",
    "hours = minutes/60 \n",
    "print(f\"{minutes} minutes converted to hours is: {hours}\")"
   ]
  },
  {
   "cell_type": "markdown",
   "id": "7439163c",
   "metadata": {},
   "source": [
    "## Author"
   ]
  },
  {
   "cell_type": "markdown",
   "id": "16f0a95f",
   "metadata": {},
   "source": [
    "Conor Boyle"
   ]
  }
 ],
 "metadata": {
  "kernelspec": {
   "display_name": "Python 3 (ipykernel)",
   "language": "python",
   "name": "python3"
  },
  "language_info": {
   "codemirror_mode": {
    "name": "ipython",
    "version": 3
   },
   "file_extension": ".py",
   "mimetype": "text/x-python",
   "name": "python",
   "nbconvert_exporter": "python",
   "pygments_lexer": "ipython3",
   "version": "3.9.13"
  }
 },
 "nbformat": 4,
 "nbformat_minor": 5
}
